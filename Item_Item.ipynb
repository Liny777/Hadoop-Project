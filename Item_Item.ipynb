{
 "cells": [
  {
   "cell_type": "code",
   "execution_count": 1,
   "id": "fb60efb0",
   "metadata": {},
   "outputs": [
    {
     "data": {
      "text/plain": [
       "matrix([[2, 0, 5, 2, 0],\n",
       "        [1, 2, 0, 3, 4],\n",
       "        [5, 0, 4, 4, 1],\n",
       "        [4, 3, 1, 5, 0],\n",
       "        [3, 5, 4, 0, 3],\n",
       "        [0, 4, 2, 0, 2]])"
      ]
     },
     "execution_count": 1,
     "metadata": {},
     "output_type": "execute_result"
    }
   ],
   "source": [
    "from numpy import *\n",
    "data = mat([[2,1,5,4,3,0],[0,2,0,3,5,4],[5,0,4,1,4,2],[2,3,4,5,0,0],[0,4,1,0,3,2]])\n",
    "New_data = data.T\n",
    "New_data"
   ]
  },
  {
   "cell_type": "code",
   "execution_count": 2,
   "id": "a56523b9",
   "metadata": {},
   "outputs": [],
   "source": [
    "def Count_mean(list_temp):\n",
    "    mean = 0\n",
    "    for i in list_temp:\n",
    "        mean = mean + i\n",
    "    mean = mean/len(list_temp)\n",
    "    return mean"
   ]
  },
  {
   "cell_type": "code",
   "execution_count": 3,
   "id": "b8832dd0",
   "metadata": {},
   "outputs": [],
   "source": [
    "def simility(list_E,list_Other,mean_E,temp_mean,all_E,all_Other):\n",
    "    temp_up = 0\n",
    "    temp_below_1 = 0\n",
    "    temp_below_2 = 0\n",
    "    for index,n in enumerate(list_Other):\n",
    "        temp_up = temp_up + (n-temp_mean)*(list_E[index]-mean_E)\n",
    "    for index,n in enumerate(all_Other):\n",
    "        temp_below_1 = temp_below_1 + (n-temp_mean)*(n-temp_mean)\n",
    "        temp_below_2 = temp_below_2 + (all_E[index]-mean_E)*(all_E[index]-mean_E)\n",
    "    temp_sim = temp_up/((temp_below_1)*(temp_below_2))**0.5\n",
    "    return temp_sim"
   ]
  },
  {
   "cell_type": "code",
   "execution_count": 4,
   "id": "20678257",
   "metadata": {},
   "outputs": [],
   "source": [
    "A = [2, 0, 5, 2, 0]\n",
    "B = [1, 2, 0, 3, 4]\n",
    "C = [5, 0, 4, 4, 1]\n",
    "D = [4, 3, 1, 5, 0]\n",
    "E = [3, 5, 4, 0, 3]\n",
    "F = [0, 4, 2, 0, 2]\n",
    "A_mean = Count_mean(A)\n",
    "B_mean = Count_mean(B)\n",
    "C_mean = Count_mean(C)\n",
    "D_mean = Count_mean(D)\n",
    "E_mean = Count_mean(E)\n",
    "F_mean = Count_mean(F)"
   ]
  },
  {
   "cell_type": "code",
   "execution_count": 5,
   "id": "9814cbcb",
   "metadata": {},
   "outputs": [
    {
     "data": {
      "text/plain": [
       "0.20865621238292043"
      ]
     },
     "execution_count": 5,
     "metadata": {},
     "output_type": "execute_result"
    }
   ],
   "source": [
    "A_1 = [2,5]\n",
    "E_1 = [3,4]\n",
    "sim1 = simility(E_1,A_1,E_mean,A_mean,E,A)\n",
    "sim1"
   ]
  },
  {
   "cell_type": "code",
   "execution_count": 6,
   "id": "79afd11c",
   "metadata": {},
   "outputs": [
    {
     "data": {
      "text/plain": [
       "0.0"
      ]
     },
     "execution_count": 6,
     "metadata": {},
     "output_type": "execute_result"
    }
   ],
   "source": [
    "B_2 = [1,2,4]\n",
    "E_2 = [3,5,3]\n",
    "sim2 = simility(E_2,B_2,E_mean,B_mean,E,B)\n",
    "sim2"
   ]
  },
  {
   "cell_type": "code",
   "execution_count": 7,
   "id": "c82a49aa",
   "metadata": {},
   "outputs": [
    {
     "data": {
      "text/plain": [
       "0.07396705090823069"
      ]
     },
     "execution_count": 7,
     "metadata": {},
     "output_type": "execute_result"
    }
   ],
   "source": [
    "C_3 = [5,4,1]\n",
    "E_3 = [3,4,3]\n",
    "sim3 = simility(E_3,C_3,E_mean,C_mean,E,C)\n",
    "sim3"
   ]
  },
  {
   "cell_type": "code",
   "execution_count": 8,
   "id": "abd673f4",
   "metadata": {},
   "outputs": [
    {
     "data": {
      "text/plain": [
       "-0.05155392622264673"
      ]
     },
     "execution_count": 8,
     "metadata": {},
     "output_type": "execute_result"
    }
   ],
   "source": [
    "D_4 = [4,3,1]\n",
    "E_4 = [3,5,4]\n",
    "sim4 = simility(E_4,D_4,E_mean,D_mean,E,D)\n",
    "sim4"
   ]
  },
  {
   "cell_type": "code",
   "execution_count": 9,
   "id": "0556f3dc",
   "metadata": {},
   "outputs": [
    {
     "data": {
      "text/plain": [
       "0.4152697672499609"
      ]
     },
     "execution_count": 9,
     "metadata": {},
     "output_type": "execute_result"
    }
   ],
   "source": [
    "F_5 = [4,2,2]\n",
    "E_5 = [5,4,3]\n",
    "sim5 = simility(E_5,F_5,E_mean,F_mean,E,F)\n",
    "sim5"
   ]
  }
 ],
 "metadata": {
  "kernelspec": {
   "display_name": "Python 3",
   "language": "python",
   "name": "python3"
  },
  "language_info": {
   "codemirror_mode": {
    "name": "ipython",
    "version": 3
   },
   "file_extension": ".py",
   "mimetype": "text/x-python",
   "name": "python",
   "nbconvert_exporter": "python",
   "pygments_lexer": "ipython3",
   "version": "3.8.8"
  }
 },
 "nbformat": 4,
 "nbformat_minor": 5
}
