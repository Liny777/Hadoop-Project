{
 "cells": [
  {
   "cell_type": "code",
   "execution_count": 1,
   "id": "269a94d6",
   "metadata": {},
   "outputs": [],
   "source": [
    "from numpy import *\n",
    "import matplotlib.pyplot as plt"
   ]
  },
  {
   "cell_type": "code",
   "execution_count": 2,
   "id": "ce174069",
   "metadata": {},
   "outputs": [],
   "source": [
    "data = mat([[2,1,5,4,3,0],[0,2,0,3,5,4],[5,0,4,1,4,2],[2,3,4,5,0,0],[0,4,1,0,3,2]])"
   ]
  },
  {
   "cell_type": "code",
   "execution_count": 3,
   "id": "1bf5b5cb",
   "metadata": {},
   "outputs": [
    {
     "data": {
      "text/plain": [
       "(5, 6)"
      ]
     },
     "execution_count": 3,
     "metadata": {},
     "output_type": "execute_result"
    }
   ],
   "source": [
    "data.shape"
   ]
  },
  {
   "cell_type": "code",
   "execution_count": 4,
   "id": "4487d5e9",
   "metadata": {},
   "outputs": [],
   "source": [
    "sim = []"
   ]
  },
  {
   "cell_type": "code",
   "execution_count": 5,
   "id": "9c6d99af",
   "metadata": {},
   "outputs": [],
   "source": [
    "New_data = data.T"
   ]
  },
  {
   "cell_type": "code",
   "execution_count": 6,
   "id": "3f67ce4a",
   "metadata": {},
   "outputs": [
    {
     "data": {
      "text/plain": [
       "matrix([[2, 0, 5, 2, 0],\n",
       "        [1, 2, 0, 3, 4],\n",
       "        [5, 0, 4, 4, 1],\n",
       "        [4, 3, 1, 5, 0],\n",
       "        [3, 5, 4, 0, 3],\n",
       "        [0, 4, 2, 0, 2]])"
      ]
     },
     "execution_count": 6,
     "metadata": {},
     "output_type": "execute_result"
    }
   ],
   "source": [
    "New_data"
   ]
  },
  {
   "cell_type": "code",
   "execution_count": 7,
   "id": "cefa5867",
   "metadata": {},
   "outputs": [
    {
     "name": "stdout",
     "output_type": "stream",
     "text": [
      "3.0\n"
     ]
    }
   ],
   "source": [
    "x_E = [3,5,4,0,3]\n",
    "mean_E = 0\n",
    "for i in x_E:\n",
    "    mean_E = mean_E + i\n",
    "mean_E = mean_E/5\n",
    "print(mean_E)"
   ]
  },
  {
   "cell_type": "code",
   "execution_count": 8,
   "id": "abb5716e",
   "metadata": {},
   "outputs": [],
   "source": [
    "New_data_array = New_data.A"
   ]
  },
  {
   "cell_type": "code",
   "execution_count": 9,
   "id": "9577db9a",
   "metadata": {},
   "outputs": [
    {
     "data": {
      "text/plain": [
       "array([[2, 0, 5, 2, 0],\n",
       "       [1, 2, 0, 3, 4],\n",
       "       [5, 0, 4, 4, 1],\n",
       "       [4, 3, 1, 5, 0],\n",
       "       [3, 5, 4, 0, 3],\n",
       "       [0, 4, 2, 0, 2]])"
      ]
     },
     "execution_count": 9,
     "metadata": {},
     "output_type": "execute_result"
    }
   ],
   "source": [
    "New_data_array"
   ]
  },
  {
   "cell_type": "code",
   "execution_count": 10,
   "id": "df1a4d19",
   "metadata": {},
   "outputs": [],
   "source": [
    "for j in New_data_array:\n",
    "    temp_mean = 0\n",
    "    for m in j:\n",
    "        temp_mean = temp_mean + m\n",
    "    temp_mean = temp_mean/5\n",
    "    temp_up = 0\n",
    "    temp_below_1 = 0\n",
    "    temp_below_2 = 0\n",
    "    for index,n in enumerate(j):\n",
    "        temp_up = temp_up + (n-temp_mean)*(x_E[index]-mean_E)\n",
    "        temp_below_1 = temp_below_1 + (n-temp_mean)*(n-temp_mean)\n",
    "        temp_below_2 = temp_below_2 + (x_E[index]-mean_E)*(x_E[index]-mean_E)\n",
    "    temp_sim = temp_up/((temp_below_1)*(temp_below_2))**0.5\n",
    "    sim.append(temp_sim)"
   ]
  },
  {
   "cell_type": "code",
   "execution_count": 11,
   "id": "f11acc23",
   "metadata": {},
   "outputs": [
    {
     "data": {
      "text/plain": [
       "[-0.06520506636966261,\n",
       " -0.4225771273642583,\n",
       " -0.4931136727215379,\n",
       " -0.5155392622264671,\n",
       " 1.0,\n",
       " 0.7985957062499249]"
      ]
     },
     "execution_count": 11,
     "metadata": {},
     "output_type": "execute_result"
    }
   ],
   "source": [
    "sim"
   ]
  },
  {
   "cell_type": "code",
   "execution_count": null,
   "id": "c0c218e9",
   "metadata": {},
   "outputs": [],
   "source": []
  }
 ],
 "metadata": {
  "kernelspec": {
   "display_name": "Python 3",
   "language": "python",
   "name": "python3"
  },
  "language_info": {
   "codemirror_mode": {
    "name": "ipython",
    "version": 3
   },
   "file_extension": ".py",
   "mimetype": "text/x-python",
   "name": "python",
   "nbconvert_exporter": "python",
   "pygments_lexer": "ipython3",
   "version": "3.8.8"
  }
 },
 "nbformat": 4,
 "nbformat_minor": 5
}
