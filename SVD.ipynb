{
 "cells": [
  {
   "cell_type": "code",
   "execution_count": 1,
   "id": "d5f4e4a7",
   "metadata": {},
   "outputs": [],
   "source": [
    "from numpy import *\n",
    "import matplotlib.pyplot as plt"
   ]
  },
  {
   "cell_type": "code",
   "execution_count": 2,
   "id": "1c332223",
   "metadata": {},
   "outputs": [],
   "source": [
    "data = mat([[7,4,3,4],[4,1,8,3],[6,3,5,2],[8,3,2,10],[4,5,0,9],[1,3,2,5],[6,6,3,2],[8,3,3,6]])\n",
    "#将矩阵中心化，即减去均值：\n",
    "Data_new = data - mean(data, axis=0)"
   ]
  },
  {
   "cell_type": "code",
   "execution_count": 3,
   "id": "9d047d57",
   "metadata": {},
   "outputs": [],
   "source": [
    "U,sigma,VT = linalg.svd(Data_new)"
   ]
  },
  {
   "cell_type": "code",
   "execution_count": 4,
   "id": "ed0e979a",
   "metadata": {},
   "outputs": [
    {
     "data": {
      "text/plain": [
       "matrix([[ 0.05098395,  0.21516748,  0.2407335 ,  0.23748722,  0.52665755,\n",
       "          0.31901234,  0.28088332, -0.61540094],\n",
       "        [ 0.52420873, -0.04733449, -0.60553641, -0.42298855,  0.27158028,\n",
       "          0.18854881,  0.25091654,  0.07145193],\n",
       "        [ 0.36838561,  0.13526975,  0.08897968,  0.25489672,  0.21704518,\n",
       "          0.38922802, -0.70577324,  0.27637202],\n",
       "        [-0.50918358,  0.35517917, -0.34508912, -0.09384591, -0.28849921,\n",
       "          0.63464845, -0.02021736, -0.01634256],\n",
       "        [-0.52408664, -0.34794805,  0.07791667, -0.37803204,  0.62068498,\n",
       "          0.04212747, -0.17791212,  0.19133433],\n",
       "        [ 0.00374117, -0.73425984, -0.06560258,  0.45294456, -0.11617779,\n",
       "          0.40332379,  0.24859846,  0.11583379],\n",
       "        [ 0.19990753,  0.04321721,  0.65982587, -0.43848692, -0.1852131 ,\n",
       "          0.36250706,  0.29118568,  0.28288503],\n",
       "        [-0.11395677,  0.38070877, -0.0512276 ,  0.38802492,  0.29237742,\n",
       "         -0.11201428,  0.42588476,  0.63990429]])"
      ]
     },
     "execution_count": 4,
     "metadata": {},
     "output_type": "execute_result"
    }
   ],
   "source": [
    "U"
   ]
  },
  {
   "cell_type": "code",
   "execution_count": 5,
   "id": "8f4faa8b",
   "metadata": {},
   "outputs": [
    {
     "data": {
      "text/plain": [
       "array([9.50110599, 6.32516182, 5.31185996, 1.37129749])"
      ]
     },
     "execution_count": 5,
     "metadata": {},
     "output_type": "execute_result"
    }
   ],
   "source": [
    "sigma"
   ]
  },
  {
   "cell_type": "code",
   "execution_count": 6,
   "id": "68102ed4",
   "metadata": {},
   "outputs": [
    {
     "data": {
      "text/plain": [
       "matrix([[-0.12780057, -0.15218062,  0.5720931 , -0.79574968],\n",
       "        [ 0.97211863, -0.04053778,  0.23031693,  0.01720953],\n",
       "        [ 0.15650874,  0.67530343, -0.50317234, -0.5160309 ],\n",
       "        [ 0.11898487, -0.72052968, -0.6053769 , -0.31654129]])"
      ]
     },
     "execution_count": 6,
     "metadata": {},
     "output_type": "execute_result"
    }
   ],
   "source": [
    "VT"
   ]
  },
  {
   "cell_type": "code",
   "execution_count": 7,
   "id": "608816db",
   "metadata": {},
   "outputs": [
    {
     "data": {
      "text/plain": [
       "(8, 8)"
      ]
     },
     "execution_count": 7,
     "metadata": {},
     "output_type": "execute_result"
    }
   ],
   "source": [
    "U.shape"
   ]
  },
  {
   "cell_type": "code",
   "execution_count": 8,
   "id": "4058b38b",
   "metadata": {},
   "outputs": [
    {
     "data": {
      "text/plain": [
       "(4,)"
      ]
     },
     "execution_count": 8,
     "metadata": {},
     "output_type": "execute_result"
    }
   ],
   "source": [
    "sigma.shape"
   ]
  },
  {
   "cell_type": "code",
   "execution_count": 9,
   "id": "287d27ed",
   "metadata": {},
   "outputs": [
    {
     "data": {
      "text/plain": [
       "(4, 4)"
      ]
     },
     "execution_count": 9,
     "metadata": {},
     "output_type": "execute_result"
    }
   ],
   "source": [
    "VT.shape"
   ]
  },
  {
   "cell_type": "code",
   "execution_count": 10,
   "id": "6ff77bef",
   "metadata": {},
   "outputs": [],
   "source": [
    "# 1*4 4 * 2 = 1 * 2"
   ]
  },
  {
   "cell_type": "code",
   "execution_count": 11,
   "id": "b52573e6",
   "metadata": {},
   "outputs": [],
   "source": [
    "# 8 * 4 * 4 * 2 = 8 * 2 = 8 * 2(8*8) * 2 * 2(4*4) = 8 * 2"
   ]
  },
  {
   "cell_type": "code",
   "execution_count": 12,
   "id": "4084e848",
   "metadata": {},
   "outputs": [],
   "source": [
    "U1 = U[:,0:2]\n",
    "# sigma1 = sigma[:,0:2]"
   ]
  },
  {
   "cell_type": "code",
   "execution_count": 13,
   "id": "38f293e7",
   "metadata": {},
   "outputs": [],
   "source": [
    "sigma1 = [[9.50110599,0],[0,6.32516182]]"
   ]
  },
  {
   "cell_type": "code",
   "execution_count": 14,
   "id": "f0443dd5",
   "metadata": {},
   "outputs": [],
   "source": [
    "result = U1*sigma1"
   ]
  },
  {
   "cell_type": "code",
   "execution_count": 15,
   "id": "7bf5dbd4",
   "metadata": {},
   "outputs": [
    {
     "data": {
      "text/plain": [
       "matrix([[ 0.48440395,  1.36096911],\n",
       "        [ 4.98056271, -0.29939832],\n",
       "        [ 3.50007071,  0.85560307],\n",
       "        [-4.8378072 ,  2.24656574],\n",
       "        [-4.97940267, -2.20082773],\n",
       "        [ 0.03554522, -4.64431231],\n",
       "        [ 1.89934265,  0.27335587],\n",
       "        [-1.08271537,  2.40804457]])"
      ]
     },
     "execution_count": 15,
     "metadata": {},
     "output_type": "execute_result"
    }
   ],
   "source": [
    "result"
   ]
  },
  {
   "cell_type": "code",
   "execution_count": 16,
   "id": "f81c41ae",
   "metadata": {},
   "outputs": [
    {
     "data": {
      "text/plain": [
       "array([[ 0.48440395,  1.36096911],\n",
       "       [ 4.98056271, -0.29939832],\n",
       "       [ 3.50007071,  0.85560307],\n",
       "       [-4.8378072 ,  2.24656574],\n",
       "       [-4.97940267, -2.20082773],\n",
       "       [ 0.03554522, -4.64431231],\n",
       "       [ 1.89934265,  0.27335587],\n",
       "       [-1.08271537,  2.40804457]])"
      ]
     },
     "execution_count": 16,
     "metadata": {},
     "output_type": "execute_result"
    }
   ],
   "source": [
    "SVD_array = result.A\n",
    "SVD_array"
   ]
  },
  {
   "cell_type": "code",
   "execution_count": 17,
   "id": "a699fb0b",
   "metadata": {},
   "outputs": [
    {
     "name": "stderr",
     "output_type": "stream",
     "text": [
      "No handles with labels found to put in legend.\n"
     ]
    },
    {
     "data": {
      "image/png": "[encoded data removed]",
      "text/plain": [
       "<Figure size 432x288 with 1 Axes>"
      ]
     },
     "metadata": {
      "needs_background": "light"
     },
     "output_type": "display_data"
    }
   ],
   "source": [
    "plt.figure()\n",
    "for i in SVD_array:\n",
    "    plt.scatter(i[0],i[1],alpha=.7)\n",
    "plt.legend()\n",
    "plt.title('Numerical Example of SVD')\n",
    "plt.show()"
   ]
  },
  {
   "cell_type": "code",
   "execution_count": null,
   "id": "8a08593e",
   "metadata": {},
   "outputs": [],
   "source": []
  }
 ],
 "metadata": {
  "kernelspec": {
   "display_name": "Python 3",
   "language": "python",
   "name": "python3"
  },
  "language_info": {
   "codemirror_mode": {
    "name": "ipython",
    "version": 3
   },
   "file_extension": ".py",
   "mimetype": "text/x-python",
   "name": "python",
   "nbconvert_exporter": "python",
   "pygments_lexer": "ipython3",
   "version": "3.8.8"
  }
 },
 "nbformat": 4,
 "nbformat_minor": 5
}
