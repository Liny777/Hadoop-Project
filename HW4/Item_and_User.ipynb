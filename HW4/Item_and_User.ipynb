{
 "cells": [
  {
   "cell_type": "markdown",
   "id": "de02030d",
   "metadata": {},
   "source": [
    "# Item-Item"
   ]
  },
  {
   "cell_type": "code",
   "execution_count": 1,
   "id": "08e5f588",
   "metadata": {},
   "outputs": [
    {
     "data": {
      "text/plain": [
       "array([[2, 0, 5, 2, 0],\n",
       "       [1, 2, 0, 3, 4],\n",
       "       [5, 0, 4, 4, 1],\n",
       "       [4, 3, 1, 5, 0],\n",
       "       [3, 5, 4, 0, 3],\n",
       "       [0, 4, 2, 0, 2]])"
      ]
     },
     "execution_count": 1,
     "metadata": {},
     "output_type": "execute_result"
    }
   ],
   "source": [
    "from numpy import *\n",
    "data = mat([[2,1,5,4,3,0],[0,2,0,3,5,4],[5,0,4,1,4,2],[2,3,4,5,0,0],[0,4,1,0,3,2]])\n",
    "New_data = data.T\n",
    "New_data_array = New_data.A\n",
    "New_data_array"
   ]
  },
  {
   "cell_type": "code",
   "execution_count": 2,
   "id": "c83203cf",
   "metadata": {},
   "outputs": [],
   "source": [
    "def getSimility(List,target_index_row):\n",
    "    Target_List = List[target_index_row]\n",
    "    print('------------------------------------- ')\n",
    "    print(\"Target List: \",Target_List)\n",
    "    \n",
    "    CommonList = []\n",
    "    for index1,n in enumerate(List):\n",
    "        if(index1!=target_index_row):\n",
    "            temp_Other = []\n",
    "            temp_Target = []\n",
    "            temp_List = []\n",
    "            for index2,m in enumerate(n):\n",
    "                if(m!=0 and Target_List[index2]!=0):\n",
    "                    temp_Other.append(m)\n",
    "                    temp_Target.append(Target_List[index2])\n",
    "            temp_List.append(temp_Other) \n",
    "            temp_List.append(temp_Target) \n",
    "            CommonList.append(temp_List)\n",
    "    print('------------------------------------- ')        \n",
    "    print(\"Common List with \",target_index_row,\" : \")\n",
    "    for i in CommonList:\n",
    "        print(i)\n",
    "    \n",
    "    NoneZeroList = []\n",
    "    print('------------------------------------- ')\n",
    "    print(\"None Zero List: \")\n",
    "    for index1,n in enumerate(List):\n",
    "        temp = []\n",
    "        for index2,m in enumerate(n):\n",
    "            if m!= 0:\n",
    "                temp.append(m)\n",
    "        print(temp)\n",
    "        NoneZeroList.append(temp)\n",
    "        \n",
    "    Mean_List = []\n",
    "    print('------------------------------------- ')\n",
    "    print(\"Mean List: \")\n",
    "    for index1,n in enumerate(NoneZeroList):\n",
    "        temp_mean = 0\n",
    "        for index2,m in enumerate(n):\n",
    "            temp_mean = temp_mean + m\n",
    "        temp_mean = temp_mean/len(n)\n",
    "        print(temp_mean)\n",
    "        Mean_List.append(temp_mean)\n",
    "        \n",
    "        \n",
    "    Mean_Common_List = []\n",
    "    Sim_up = []\n",
    "    for index1,n in enumerate(CommonList): # n = [[2, 5], [3, 4]]\n",
    "        temp_other = []\n",
    "        temp_target = []\n",
    "        temp_com = []\n",
    "        # 将对应位置上都有的数值单独归一化\n",
    "        # 先归一化其他元素\n",
    "        for i in n[0]: # i=2,5 n[0]=[2,5]\n",
    "            temp_other.append((i-Mean_List[index1]))\n",
    "        # temp = [2-mean,5-mean]\n",
    "        temp_com.append(temp_other) # temp_com = [ [2-mean,5-mean] ]\n",
    "        # 再归一化目标元素\n",
    "        for i in n[1]: # i=3,4 n[0]=[3,4] target\n",
    "            temp_target.append((i-Mean_List[target_index_row]))\n",
    "        temp_com.append(temp_target)\n",
    "        \n",
    "        temp_simup = 0\n",
    "        for index,item in enumerate(temp_other):\n",
    "            temp_simup = item*temp_target[index] + temp_simup\n",
    "        Sim_up.append(temp_simup)\n",
    "        Mean_Common_List.append(temp_com)\n",
    "    print('------------------------------------- ')\n",
    "    print(\"Sim up list:\")\n",
    "#     for i in Sim_up:\n",
    "    print(Sim_up)\n",
    "    print('------------------------------------- ')    \n",
    "    print(\"Mean Common list:\")\n",
    "#     for j in Mean_Common_List:\n",
    "    print(Mean_Common_List)\n",
    "        \n",
    "    sim_right_target = 0\n",
    "    Sim_down = []\n",
    "    for i in NoneZeroList[target_index_row]:\n",
    "        sim_right_target = sim_right_target + (i - Mean_List[target_index_row])**2\n",
    "        \n",
    "    for index1,n in enumerate(NoneZeroList): \n",
    "        if(index1 != target_index_row):\n",
    "            temp_sum_left = 0\n",
    "            for m in n:\n",
    "                temp_sum_left = temp_sum_left + (m - Mean_List[index1])**2\n",
    "            temp_sim_down = temp_sum_left * sim_right_target\n",
    "            Sim_down.append(temp_sim_down**0.5)\n",
    "    print('------------------------------------- ')\n",
    "    print(\"Sim down\")\n",
    "    print(Sim_down)\n",
    "    \n",
    "    Sim = []  \n",
    "    for index,item in enumerate(Sim_up):\n",
    "        Sim.append(item/Sim_down[index])\n",
    "    print('------------------------------------- ')\n",
    "    print(\"Similarity: \")\n",
    "    print(Sim)"
   ]
  },
  {
   "cell_type": "code",
   "execution_count": 3,
   "id": "35113a3e",
   "metadata": {},
   "outputs": [
    {
     "name": "stdout",
     "output_type": "stream",
     "text": [
      "------------------------------------- \n",
      "Target List:  [3 5 4 0 3]\n",
      "------------------------------------- \n",
      "Common List with  4  : \n",
      "[[2, 5], [3, 4]]\n",
      "[[1, 2, 4], [3, 5, 3]]\n",
      "[[5, 4, 1], [3, 4, 3]]\n",
      "[[4, 3, 1], [3, 5, 4]]\n",
      "[[4, 2, 2], [5, 4, 3]]\n",
      "------------------------------------- \n",
      "None Zero List: \n",
      "[2, 5, 2]\n",
      "[1, 2, 3, 4]\n",
      "[5, 4, 4, 1]\n",
      "[4, 3, 1, 5]\n",
      "[3, 5, 4, 3]\n",
      "[4, 2, 2]\n",
      "------------------------------------- \n",
      "Mean List: \n",
      "3.0\n",
      "2.5\n",
      "3.5\n",
      "3.25\n",
      "3.75\n",
      "2.6666666666666665\n",
      "------------------------------------- \n",
      "Sim up list:\n",
      "[1.25, -0.625, 0.875, -1.4375, 1.1875]\n",
      "------------------------------------- \n",
      "Mean Common list:\n",
      "[[[-1.0, 2.0], [-0.75, 0.25]], [[-1.5, -0.5, 1.5], [-0.75, 1.25, -0.75]], [[1.5, 0.5, -2.5], [-0.75, 0.25, -0.75]], [[0.75, -0.25, -2.25], [-0.75, 1.25, 0.25]], [[0.25, -1.75, -1.75], [1.25, 0.25, -0.75]]]\n",
      "------------------------------------- \n",
      "Sim down\n",
      "[4.06201920231798, 3.7080992435478315, 4.9749371855331, 4.905354217587146, 2.70801280154532]\n",
      "------------------------------------- \n",
      "Similarity: \n",
      "[0.3077287274483318, -0.1685499656158105, 0.17588161767036212, -0.2930471350766347, 0.4385134366138729]\n"
     ]
    }
   ],
   "source": [
    "getSimility(New_data_array,4) # E = 4(从0开始数)"
   ]
  },
  {
   "cell_type": "code",
   "execution_count": 4,
   "id": "17f9fd1e",
   "metadata": {},
   "outputs": [
    {
     "name": "stdout",
     "output_type": "stream",
     "text": [
      "Predict rate:  2.727369128661609\n"
     ]
    }
   ],
   "source": [
    "Predict_RateIV_E = (0.3077287274483318 * 2 + 0.17588161767036212 * 4)/(0.3077287274483318+0.17588161767036212)\n",
    "print(\"Predict rate: \",Predict_RateIV_E)"
   ]
  },
  {
   "cell_type": "markdown",
   "id": "a6e29cae",
   "metadata": {},
   "source": [
    "# User-User"
   ]
  },
  {
   "cell_type": "code",
   "execution_count": 5,
   "id": "dac42c10",
   "metadata": {},
   "outputs": [
    {
     "data": {
      "text/plain": [
       "array([[2, 1, 5, 4, 3, 0],\n",
       "       [0, 2, 0, 3, 5, 4],\n",
       "       [5, 0, 4, 1, 4, 2],\n",
       "       [2, 3, 4, 5, 0, 0],\n",
       "       [0, 4, 1, 0, 3, 2]])"
      ]
     },
     "execution_count": 5,
     "metadata": {},
     "output_type": "execute_result"
    }
   ],
   "source": [
    "User_data = mat([[2,1,5,4,3,0],[0,2,0,3,5,4],[5,0,4,1,4,2],[2,3,4,5,0,0],[0,4,1,0,3,2]])\n",
    "User_array = User_data.A\n",
    "User_array"
   ]
  },
  {
   "cell_type": "code",
   "execution_count": 6,
   "id": "1b5a538c",
   "metadata": {},
   "outputs": [
    {
     "name": "stdout",
     "output_type": "stream",
     "text": [
      "------------------------------------- \n",
      "Target List:  [2 3 4 5 0 0]\n",
      "------------------------------------- \n",
      "Common List with  3  : \n",
      "[[2, 1, 5, 4], [2, 3, 4, 5]]\n",
      "[[2, 3], [3, 5]]\n",
      "[[5, 4, 1], [2, 4, 5]]\n",
      "[[4, 1], [3, 4]]\n",
      "------------------------------------- \n",
      "None Zero List: \n",
      "[2, 1, 5, 4, 3]\n",
      "[2, 3, 5, 4]\n",
      "[5, 4, 1, 4, 2]\n",
      "[2, 3, 4, 5]\n",
      "[4, 1, 3, 2]\n",
      "------------------------------------- \n",
      "Mean List: \n",
      "3.0\n",
      "3.5\n",
      "3.2\n",
      "3.5\n",
      "2.5\n",
      "------------------------------------- \n",
      "Sim up list:\n",
      "[5.0, 0.0, -5.6, -1.5]\n",
      "------------------------------------- \n",
      "Mean Common list:\n",
      "[[[-1.0, -2.0, 2.0, 1.0], [-1.5, -0.5, 0.5, 1.5]], [[-1.5, -0.5], [-0.5, 1.5]], [[1.7999999999999998, 0.7999999999999998, -2.2], [-1.5, 0.5, 1.5]], [[0.5, -2.5], [-0.5, 0.5]]]\n",
      "------------------------------------- \n",
      "Sim down\n",
      "[7.0710678118654755, 5.0, 7.3484692283495345, 5.0]\n",
      "------------------------------------- \n",
      "Similarity: \n",
      "[0.7071067811865475, 0.0, -0.7620634755325443, -0.3]\n"
     ]
    }
   ],
   "source": [
    "getSimility(User_array,3)"
   ]
  },
  {
   "cell_type": "code",
   "execution_count": 7,
   "id": "6ab7a467",
   "metadata": {},
   "outputs": [
    {
     "name": "stdout",
     "output_type": "stream",
     "text": [
      "Predict rate:  3.0\n"
     ]
    }
   ],
   "source": [
    "Predict_RateIV_E = (0.7071067811865475 * 3 + (0.0) * 3)/(0.7071067811865475)\n",
    "print(\"Predict rate: \",Predict_RateIV_E)"
   ]
  },
  {
   "cell_type": "code",
   "execution_count": null,
   "id": "ecbbdd2f",
   "metadata": {},
   "outputs": [],
   "source": []
  }
 ],
 "metadata": {
  "kernelspec": {
   "display_name": "Python 3",
   "language": "python",
   "name": "python3"
  },
  "language_info": {
   "codemirror_mode": {
    "name": "ipython",
    "version": 3
   },
   "file_extension": ".py",
   "mimetype": "text/x-python",
   "name": "python",
   "nbconvert_exporter": "python",
   "pygments_lexer": "ipython3",
   "version": "3.8.8"
  }
 },
 "nbformat": 4,
 "nbformat_minor": 5
}
