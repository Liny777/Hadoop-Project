{
 "cells": [
  {
   "cell_type": "code",
   "execution_count": 1,
   "id": "70c9cc2c",
   "metadata": {},
   "outputs": [
    {
     "data": {
      "text/plain": [
       "array([[2, 0, 5, 2, 0],\n",
       "       [1, 2, 0, 3, 4],\n",
       "       [5, 0, 4, 4, 1],\n",
       "       [4, 3, 1, 5, 0],\n",
       "       [3, 5, 4, 0, 3],\n",
       "       [0, 4, 2, 0, 2]])"
      ]
     },
     "execution_count": 1,
     "metadata": {},
     "output_type": "execute_result"
    }
   ],
   "source": [
    "from numpy import *\n",
    "data = mat([[2,1,5,4,3,0],[0,2,0,3,5,4],[5,0,4,1,4,2],[2,3,4,5,0,0],[0,4,1,0,3,2]])\n",
    "New_data = data.T\n",
    "New_data_array = New_data.A\n",
    "New_data_array"
   ]
  },
  {
   "cell_type": "code",
   "execution_count": 2,
   "id": "2d0639d1",
   "metadata": {},
   "outputs": [
    {
     "name": "stdout",
     "output_type": "stream",
     "text": [
      "Target List:  [3 5 4 0 3]\n",
      "Common List with  4  : \n",
      "[[2, 5], [3, 4]]\n",
      "[[1, 2, 4], [3, 5, 3]]\n",
      "[[5, 4, 1], [3, 4, 3]]\n",
      "[[4, 3, 1], [3, 5, 4]]\n",
      "[[4, 2, 2], [5, 4, 3]]\n"
     ]
    }
   ],
   "source": [
    "def getCommList(List,target_index_row):\n",
    "    Target_List = List[target_index_row]\n",
    "    print(\"Target List: \",Target_List)\n",
    "    \n",
    "    CommonList = []\n",
    "    for index1,n in enumerate(List):\n",
    "        if(index1!=target_index_row):\n",
    "            temp_Other = []\n",
    "            temp_Target = []\n",
    "            temp_List = []\n",
    "            for index2,m in enumerate(n):\n",
    "                if(m!=0 and Target_List[index2]!=0):\n",
    "                    temp_Other.append(m)\n",
    "                    temp_Target.append(Target_List[index2])\n",
    "            temp_List.append(temp_Other) \n",
    "            temp_List.append(temp_Target) \n",
    "            CommonList.append(temp_List)\n",
    "            \n",
    "    print(\"Common List with \",target_index_row,\" : \")\n",
    "    for i in CommonList:\n",
    "        print(i)\n",
    "    return CommonList\n",
    "\n",
    "CCC = getCommList(New_data_array,4)"
   ]
  },
  {
   "cell_type": "code",
   "execution_count": 3,
   "id": "1bf87b4b",
   "metadata": {},
   "outputs": [
    {
     "name": "stdout",
     "output_type": "stream",
     "text": [
      "None Zero List: \n",
      "[2, 5, 2]\n",
      "[1, 2, 3, 4]\n",
      "[5, 4, 4, 1]\n",
      "[4, 3, 1, 5]\n",
      "[3, 5, 4, 3]\n",
      "[4, 2, 2]\n"
     ]
    }
   ],
   "source": [
    "def getNoneZeroList(List):\n",
    "    NoneZeroList = []\n",
    "    print(\"None Zero List: \")\n",
    "    for index1,n in enumerate(List):\n",
    "        temp = []\n",
    "        for index2,m in enumerate(n):\n",
    "            if m!= 0:\n",
    "                temp.append(m)\n",
    "        print(temp)\n",
    "        NoneZeroList.append(temp)\n",
    "    return NoneZeroList\n",
    "NoneList = getNoneZeroList(New_data_array)"
   ]
  },
  {
   "cell_type": "code",
   "execution_count": 4,
   "id": "7232002c",
   "metadata": {},
   "outputs": [
    {
     "name": "stdout",
     "output_type": "stream",
     "text": [
      "Mean List: \n",
      "3.0\n",
      "2.5\n",
      "3.5\n",
      "3.25\n",
      "3.75\n",
      "2.6666666666666665\n"
     ]
    }
   ],
   "source": [
    "def getMeanCount(List):\n",
    "    Mean_List = []\n",
    "    print(\"Mean List: \")\n",
    "    for index1,n in enumerate(List):\n",
    "        temp_mean = 0\n",
    "        for index2,m in enumerate(n):\n",
    "            temp_mean = temp_mean + m\n",
    "        temp_mean = temp_mean/len(n)\n",
    "        print(temp_mean)\n",
    "        Mean_List.append(temp_mean)\n",
    "    return Mean_List\n",
    "MeanList = getMeanCount(NoneList)"
   ]
  },
  {
   "cell_type": "code",
   "execution_count": 5,
   "id": "d520b022",
   "metadata": {},
   "outputs": [
    {
     "name": "stdout",
     "output_type": "stream",
     "text": [
      "Sim up list:\n",
      "1.25\n",
      "-0.625\n",
      "0.875\n",
      "-1.4375\n",
      "1.1875\n",
      "Mean Common list:\n",
      "[[-1.0, 2.0], [-0.75, 0.25]]\n",
      "[[-1.5, -0.5, 1.5], [-0.75, 1.25, -0.75]]\n",
      "[[1.5, 0.5, -2.5], [-0.75, 0.25, -0.75]]\n",
      "[[0.75, -0.25, -2.25], [-0.75, 1.25, 0.25]]\n",
      "[[0.25, -1.75, -1.75], [1.25, 0.25, -0.75]]\n"
     ]
    }
   ],
   "source": [
    "def Sim_up_Count(CommonList,MeanList,target_index_row):\n",
    "    Mean_Common_List = []\n",
    "    Sim_up = []\n",
    "    for index1,n in enumerate(CommonList): # n = [[2, 5], [3, 4]]\n",
    "        temp_other = []\n",
    "        temp_target = []\n",
    "        temp_com = []\n",
    "        # 将对应位置上都有的数值单独归一化\n",
    "        # 先归一化其他元素\n",
    "        for i in n[0]: # i=2,5 n[0]=[2,5]\n",
    "            temp_other.append((i-MeanList[index1]))\n",
    "        # temp = [2-mean,5-mean]\n",
    "        temp_com.append(temp_other) # temp_com = [ [2-mean,5-mean] ]\n",
    "        # 再归一化目标元素\n",
    "        for i in n[1]: # i=3,4 n[0]=[3,4] target\n",
    "            temp_target.append((i-MeanList[target_index_row]))\n",
    "        temp_com.append(temp_target)\n",
    "        \n",
    "        temp_simup = 0\n",
    "        for index,item in enumerate(temp_other):\n",
    "            temp_simup = item*temp_target[index] + temp_simup\n",
    "        Sim_up.append(temp_simup)\n",
    "        Mean_Common_List.append(temp_com)\n",
    "    \n",
    "    print(\"Sim up list:\")\n",
    "    for i in Sim_up:\n",
    "        print(i)\n",
    "        \n",
    "    print(\"Mean Common list:\")\n",
    "    for j in Mean_Common_List:\n",
    "        print(j)\n",
    "    return Sim_up\n",
    "    \n",
    "Sim_up_list = Sim_up_Count(CCC,MeanList,4)"
   ]
  },
  {
   "cell_type": "code",
   "execution_count": 6,
   "id": "7ac8d326",
   "metadata": {},
   "outputs": [
    {
     "data": {
      "text/plain": [
       "[[2, 5, 2], [1, 2, 3, 4], [5, 4, 4, 1], [4, 3, 1, 5], [3, 5, 4, 3], [4, 2, 2]]"
      ]
     },
     "execution_count": 6,
     "metadata": {},
     "output_type": "execute_result"
    }
   ],
   "source": [
    "NoneList"
   ]
  },
  {
   "cell_type": "code",
   "execution_count": 7,
   "id": "545eaa2b",
   "metadata": {},
   "outputs": [
    {
     "name": "stdout",
     "output_type": "stream",
     "text": [
      "[4.06201920231798, 3.7080992435478315, 4.9749371855331, 4.905354217587146, 2.70801280154532]\n"
     ]
    }
   ],
   "source": [
    "def Sim_down_Count(NoneList,MeanList,target_index_row):\n",
    "    sim_right_target = 0\n",
    "    Sim_down = []\n",
    "    for i in NoneList[target_index_row]:\n",
    "        sim_right_target = sim_right_target + (i - MeanList[target_index_row])**2\n",
    "        \n",
    "    for index1,n in enumerate(NoneList): \n",
    "        if(index1 != target_index_row):\n",
    "            temp_sum_left = 0\n",
    "            for m in n:\n",
    "                temp_sum_left = temp_sum_left + (m - MeanList[index1])**2\n",
    "            temp_sim_down = temp_sum_left * sim_right_target\n",
    "            Sim_down.append(temp_sim_down**0.5)\n",
    "    print(Sim_down)\n",
    "    return Sim_down\n",
    "Sim_down = Sim_down_Count(NoneList,MeanList,4)"
   ]
  },
  {
   "cell_type": "code",
   "execution_count": 8,
   "id": "857b28b2",
   "metadata": {},
   "outputs": [
    {
     "name": "stdout",
     "output_type": "stream",
     "text": [
      "[0.3077287274483318, -0.1685499656158105, 0.17588161767036212, -0.2930471350766347, 0.4385134366138729]\n"
     ]
    }
   ],
   "source": [
    "def CountSim(Sim_up,Sim_down):\n",
    "    Sim = []  \n",
    "    for index,item in enumerate(Sim_up):\n",
    "        Sim.append(item/Sim_down[index])\n",
    "    print(Sim)\n",
    "    return Sim\n",
    "Sim = CountSim(Sim_up_list,Sim_down)"
   ]
  },
  {
   "cell_type": "code",
   "execution_count": 9,
   "id": "2a9c23bb",
   "metadata": {},
   "outputs": [],
   "source": [
    "# def SimCount(CommonList,target_index_row):\n",
    "#     Mean_List = []\n",
    "#     Mean_Common_List = []\n",
    "#     for a in CommonList: #[[2, 5], [3, 4]]\n",
    "#         temp_mean_List = []\n",
    "#         for b in a: # [2,5] [3,4]\n",
    "#             temp_mean = 0\n",
    "#             for c in b: # 2,5\n",
    "#                 temp_mean = temp_mean + c\n",
    "#             temp_mean = temp_mean/len(b)\n",
    "#             temp_mean_List.append(temp_mean)\n",
    "#         Mean_List.append(temp_mean_List)\n",
    "    \n",
    "#     print(\"Mean: \")\n",
    "#     for i in Mean_List:\n",
    "#         print(i)\n",
    "        \n",
    "#     for index1,n in enumerate(CommonList): # [[2, 5], [3, 4]]\n",
    "#         temp2 = []\n",
    "#         for index2,m in enumerate(n): # [2,5] [3,4]\n",
    "#             temp1 = []\n",
    "#             for index3,k in enumerate(m): # 2, 5\n",
    "#                 temp_value = k - Mean_List[index1][index2]\n",
    "#                 temp1.append(temp_value)\n",
    "#             # temp1 = [2-mean,5-mean]\n",
    "#             temp2.append(temp1)\n",
    "#         # temp2 = [[2-mean,5-mean],[3-mean,4-mean]]\n",
    "#         Mean_Common_List.append(temp2)\n",
    "    \n",
    "#     print(\"Mean_Common: \")\n",
    "#     for j in Mean_Common_List:\n",
    "#         print(j)\n",
    "    \n",
    "#     Similarity = []\n",
    "#     print(\"Similarity: \")\n",
    "#     for i1, item1 in enumerate(Mean_Common_List):#  item1 = [[2,5][3,4]]\n",
    "#         len_com_other = len(item1[0]) \n",
    "#         len_com_target = len(item1[1]) \n",
    "#         sum_up = 0\n",
    "#         sum_down_left = 0\n",
    "#         sum_down_right = 0\n",
    "#         if len_com_other==len_com_target:\n",
    "#             for inde in range(0,len_com_other):\n",
    "#                 sum_up = sum_up + item1[0][inde]*item1[1][inde]\n",
    "#                 sum_down_left = sum_down_left + item1[0][inde]**2\n",
    "#                 sum_down_right = sum_down_right + item1[1][inde]**2\n",
    "#             temp_sim = sum_up/((sum_down_left*sum_down_right)**0.5)\n",
    "#             print(temp_sim)\n",
    "#             Similarity.append(temp_sim)\n",
    "    "
   ]
  },
  {
   "cell_type": "code",
   "execution_count": 10,
   "id": "67a74168",
   "metadata": {},
   "outputs": [],
   "source": [
    "# SimmCount(CCC,4)"
   ]
  },
  {
   "cell_type": "code",
   "execution_count": null,
   "id": "64f4ab40",
   "metadata": {},
   "outputs": [],
   "source": []
  }
 ],
 "metadata": {
  "kernelspec": {
   "display_name": "Python 3",
   "language": "python",
   "name": "python3"
  },
  "language_info": {
   "codemirror_mode": {
    "name": "ipython",
    "version": 3
   },
   "file_extension": ".py",
   "mimetype": "text/x-python",
   "name": "python",
   "nbconvert_exporter": "python",
   "pygments_lexer": "ipython3",
   "version": "3.8.8"
  }
 },
 "nbformat": 4,
 "nbformat_minor": 5
}
