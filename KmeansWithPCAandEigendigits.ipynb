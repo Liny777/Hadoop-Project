{
 "cells": [
  {
   "cell_type": "code",
   "execution_count": 1,
   "id": "00256e4b",
   "metadata": {},
   "outputs": [],
   "source": [
    "from numpy import *\n",
    "import pandas as pd\n",
    "import matplotlib.pyplot as plt\n",
    "import heapq"
   ]
  },
  {
   "cell_type": "code",
   "execution_count": 2,
   "id": "f3089f18",
   "metadata": {},
   "outputs": [],
   "source": [
    "MINISt_data = pd.read_csv('trainImage.txt',header=None)\n",
    "Data_array = MINISt_data.values"
   ]
  },
  {
   "cell_type": "code",
   "execution_count": 3,
   "id": "f66a39c5",
   "metadata": {},
   "outputs": [
    {
     "data": {
      "text/plain": [
       "numpy.ndarray"
      ]
     },
     "execution_count": 3,
     "metadata": {},
     "output_type": "execute_result"
    }
   ],
   "source": [
    "type(Data_array)"
   ]
  },
  {
   "cell_type": "code",
   "execution_count": 4,
   "id": "ba2b58d2",
   "metadata": {},
   "outputs": [],
   "source": [
    "Data_array_new = Data_array - mean(Data_array, axis=0)"
   ]
  },
  {
   "cell_type": "code",
   "execution_count": 5,
   "id": "e0167519",
   "metadata": {},
   "outputs": [],
   "source": [
    "C = dot(Data_array_new.T, Data_array_new) / (Data_array_new.shape[0] - 1)"
   ]
  },
  {
   "cell_type": "code",
   "execution_count": 6,
   "id": "888bfa29",
   "metadata": {},
   "outputs": [],
   "source": [
    "eig_vals, eig_vecs = linalg.eig(C)"
   ]
  },
  {
   "cell_type": "code",
   "execution_count": 7,
   "id": "f97eb8e9",
   "metadata": {},
   "outputs": [
    {
     "data": {
      "text/plain": [
       "(784, 784)"
      ]
     },
     "execution_count": 7,
     "metadata": {},
     "output_type": "execute_result"
    }
   ],
   "source": [
    "eig_vecs.shape"
   ]
  },
  {
   "cell_type": "code",
   "execution_count": 8,
   "id": "fc24de4b",
   "metadata": {},
   "outputs": [
    {
     "data": {
      "text/plain": [
       "(60000, 784)"
      ]
     },
     "execution_count": 8,
     "metadata": {},
     "output_type": "execute_result"
    }
   ],
   "source": [
    "Data_array_new.shape"
   ]
  },
  {
   "cell_type": "code",
   "execution_count": 9,
   "id": "0f6230f8",
   "metadata": {},
   "outputs": [
    {
     "data": {
      "text/plain": [
       "(784,)"
      ]
     },
     "execution_count": 9,
     "metadata": {},
     "output_type": "execute_result"
    }
   ],
   "source": [
    "eig_vals.shape"
   ]
  },
  {
   "cell_type": "code",
   "execution_count": 10,
   "id": "f4586eda",
   "metadata": {},
   "outputs": [
    {
     "data": {
      "text/plain": [
       "array([ 3.32724667e+05,  2.43283939e+05,  2.11507367e+05,  1.84776386e+05,\n",
       "        1.66926831e+05,  1.47844962e+05,  1.12178203e+05,  9.88744296e+04,\n",
       "        9.46962491e+04,  8.08098245e+04,  7.23136203e+04,  6.93583013e+04,\n",
       "        5.88268711e+04,  5.80140840e+04,  5.41237569e+04,  5.08430685e+04,\n",
       "        4.54126063e+04,  4.37784591e+04,  4.07053405e+04,  3.95197904e+04,\n",
       "        3.65535359e+04,  3.45151939e+04,  3.26932861e+04,  3.12865858e+04,\n",
       "        3.02875526e+04,  2.87760784e+04,  2.78592854e+04,  2.69605814e+04,\n",
       "        2.55331936e+04,  2.36861230e+04,  2.25627619e+04,  2.22217664e+04,\n",
       "        2.06606718e+04,  2.01109854e+04,  1.95432009e+04,  1.86382921e+04,\n",
       "        1.73409003e+04,  1.67262448e+04,  1.65058174e+04,  1.61916632e+04,\n",
       "        1.56595799e+04,  1.52512141e+04,  1.43483288e+04,  1.36528231e+04,\n",
       "        1.31988643e+04,  1.28604293e+04,  1.24114828e+04,  1.20543160e+04,\n",
       "        1.16589043e+04,  1.10354744e+04,  1.09375078e+04,  1.07245254e+04,\n",
       "        1.01477734e+04,  9.90681589e+03,  9.74141801e+03,  9.24054997e+03,\n",
       "        9.30618378e+03,  8.86173788e+03,  8.70053134e+03,  8.39232150e+03,\n",
       "        8.24575895e+03,  8.20313474e+03,  7.89956099e+03,  7.59523483e+03,\n",
       "        7.32742367e+03,  7.10472267e+03,  6.96132321e+03,  6.74669704e+03,\n",
       "        6.61195616e+03,  6.46726939e+03,  6.41051351e+03,  6.20843473e+03,\n",
       "        5.99638494e+03,  6.08772122e+03,  5.68302483e+03,  5.61910734e+03,\n",
       "        5.53573273e+03,  5.31817057e+03,  5.06091461e+03,  4.90879510e+03,\n",
       "        4.87170425e+03,  4.83944074e+03,  4.80588341e+03,  4.65372401e+03,\n",
       "        4.58895272e+03,  4.53921170e+03,  4.46244467e+03,  4.31556212e+03,\n",
       "        4.21116662e+03,  4.16852722e+03,  4.01252954e+03,  3.93844401e+03,\n",
       "        3.88257973e+03,  3.80171702e+03,  3.73712983e+03,  3.66586583e+03,\n",
       "        3.56587635e+03,  3.57236167e+03,  3.47157417e+03,  3.44657957e+03,\n",
       "        3.37370582e+03,  3.25600167e+03,  3.22738954e+03,  3.14107882e+03,\n",
       "        3.07492881e+03,  3.11256839e+03,  2.93195982e+03,  2.96699629e+03,\n",
       "        2.89921015e+03,  2.81992838e+03,  2.71394865e+03,  2.69002611e+03,\n",
       "        2.69459284e+03,  2.63594096e+03,  2.61942909e+03,  2.58196538e+03,\n",
       "        2.52606216e+03,  2.49297369e+03,  2.46732751e+03,  2.42332145e+03,\n",
       "        2.38426448e+03,  2.37307617e+03,  2.34270730e+03,  2.31101834e+03,\n",
       "        2.28638887e+03,  2.21229524e+03,  2.17913617e+03,  2.16560090e+03,\n",
       "        2.13572974e+03,  2.07523916e+03,  2.06940530e+03,  2.03817954e+03,\n",
       "        2.01701459e+03,  2.01088553e+03,  1.97766771e+03,  1.99312874e+03,\n",
       "        1.93836946e+03,  1.90201144e+03,  1.83483282e+03,  1.80028343e+03,\n",
       "        1.80313648e+03,  1.74941721e+03,  1.72443665e+03,  1.70983821e+03,\n",
       "        1.71794674e+03,  1.68363440e+03,  1.66466684e+03,  1.65543990e+03,\n",
       "        1.62515761e+03,  1.60574363e+03,  1.59973572e+03,  1.58852085e+03,\n",
       "        1.57468972e+03,  1.51783212e+03,  1.54412858e+03,  1.53873732e+03,\n",
       "        1.49713908e+03,  1.46550830e+03,  1.45704235e+03,  1.44687060e+03,\n",
       "        1.40444172e+03,  1.42458922e+03,  1.37422535e+03,  1.36414043e+03,\n",
       "        1.33880821e+03,  1.35110682e+03,  1.32289657e+03,  1.29905676e+03,\n",
       "        1.30206488e+03,  1.28205200e+03,  1.26653880e+03,  1.21589179e+03,\n",
       "        1.23383104e+03,  1.25192008e+03,  1.24733473e+03,  1.20991160e+03,\n",
       "        1.19067934e+03,  1.18611530e+03,  1.17065212e+03,  1.15572767e+03,\n",
       "        1.15761914e+03,  1.11737418e+03,  1.13218421e+03,  1.12576548e+03,\n",
       "        1.08400679e+03,  1.10721613e+03,  1.10147204e+03,  1.08786143e+03,\n",
       "        1.06606732e+03,  1.04900647e+03,  1.03392917e+03,  1.03977831e+03,\n",
       "        1.06124798e+03,  1.03681449e+03,  1.01726143e+03,  1.00616859e+03,\n",
       "        1.01396787e+03,  1.00342844e+03,  9.86559429e+02,  9.74878297e+02,\n",
       "        9.66722035e+02,  9.56793092e+02,  9.45356659e+02,  9.34179901e+02,\n",
       "        9.23759496e+02,  9.17835309e+02,  9.08964909e+02,  9.06246276e+02,\n",
       "        8.97866173e+02,  8.89528131e+02,  8.86463059e+02,  8.80860492e+02,\n",
       "        8.66766552e+02,  8.73366411e+02,  8.64976333e+02,  8.52039923e+02,\n",
       "        8.55627135e+02,  8.43668598e+02,  8.36400097e+02,  8.29228233e+02,\n",
       "        8.16908679e+02,  8.24362617e+02,  8.26159913e+02,  8.12052459e+02,\n",
       "        7.97394577e+02,  7.88994663e+02,  7.93043251e+02,  7.80270073e+02,\n",
       "        7.81995999e+02,  7.63788828e+02,  7.60657907e+02,  7.55787148e+02,\n",
       "        7.46956124e+02,  7.42807176e+02,  7.37690100e+02,  7.34367667e+02,\n",
       "        7.29774364e+02,  7.21262606e+02,  7.19145648e+02,  7.09567868e+02,\n",
       "        7.01896621e+02,  7.00344541e+02,  6.82260205e+02,  6.89076987e+02,\n",
       "        6.90206430e+02,  6.77577167e+02,  6.05777781e+02,  6.08750349e+02,\n",
       "        6.71394905e+02,  6.16672184e+02,  6.23578170e+02,  6.64197765e+02,\n",
       "        6.48253416e+02,  6.61215524e+02,  6.39046456e+02,  6.57493047e+02,\n",
       "        6.32963462e+02,  6.56701988e+02,  6.27917152e+02,  6.37178686e+02,\n",
       "        6.44601574e+02,  6.29801665e+02,  6.03286663e+02,  5.91915090e+02,\n",
       "        5.96157865e+02,  5.94600374e+02,  5.82970479e+02,  5.87596093e+02,\n",
       "        5.80447249e+02,  5.76007181e+02,  5.72291656e+02,  5.70682115e+02,\n",
       "        5.62979378e+02,  5.60497337e+02,  5.51616135e+02,  5.57673558e+02,\n",
       "        5.55041984e+02,  5.48025030e+02,  5.44558901e+02,  5.39481052e+02,\n",
       "        5.37375734e+02,  5.31065227e+02,  5.27334534e+02,  5.24793823e+02,\n",
       "        5.21265461e+02,  5.14311948e+02,  5.13126603e+02,  5.08204312e+02,\n",
       "        5.06300453e+02,  5.00998104e+02,  4.95941012e+02,  4.89326111e+02,\n",
       "        4.91077474e+02,  4.85986804e+02,  4.87085574e+02,  4.81677795e+02,\n",
       "        4.73948077e+02,  4.73038192e+02,  4.69160629e+02,  4.58106985e+02,\n",
       "        4.61165063e+02,  4.65574257e+02,  4.66191961e+02,  4.53737644e+02,\n",
       "        4.48111488e+02,  4.46355192e+02,  4.42834951e+02,  4.37187639e+02,\n",
       "        4.33152518e+02,  4.31511590e+02,  4.39231054e+02,  4.36166749e+02,\n",
       "        4.27639637e+02,  4.23633690e+02,  4.16793582e+02,  4.20408964e+02,\n",
       "        4.14941623e+02,  4.11308745e+02,  4.07816174e+02,  4.09439160e+02,\n",
       "        3.91593154e+02,  4.04124932e+02,  4.01340402e+02,  3.99403114e+02,\n",
       "        3.98045862e+02,  3.92668300e+02,  3.85386143e+02,  3.81507775e+02,\n",
       "        3.77336888e+02,  3.78612128e+02,  3.78986975e+02,  3.73620496e+02,\n",
       "        3.60163588e+02,  3.71385915e+02,  3.64123994e+02,  3.66864760e+02,\n",
       "        3.68892132e+02,  3.54577642e+02,  3.63177849e+02,  2.34165427e+02,\n",
       "        3.45749965e+02,  3.49864447e+02,  3.50565184e+02,  3.43757806e+02,\n",
       "        3.40700359e+02,  3.36421721e+02,  3.31985992e+02,  3.34605193e+02,\n",
       "        2.37406747e+02,  2.38800890e+02,  3.41471178e+02,  3.27505713e+02,\n",
       "        3.24147219e+02,  2.42757820e+02,  2.44851321e+02,  2.47080907e+02,\n",
       "        3.21587441e+02,  3.21328654e+02,  3.17112677e+02,  2.49300188e+02,\n",
       "        2.49648526e+02,  2.52231936e+02,  2.53180387e+02,  3.10876685e+02,\n",
       "        3.13354055e+02,  3.14007804e+02,  2.55799356e+02,  3.08822847e+02,\n",
       "        3.02604403e+02,  2.59893923e+02,  2.99403982e+02,  2.62589860e+02,\n",
       "        3.05671439e+02,  2.65452574e+02,  2.67632807e+02,  3.06406908e+02,\n",
       "        2.95912665e+02,  2.69569871e+02,  2.91963568e+02,  2.72457358e+02,\n",
       "        2.93395455e+02,  2.80833837e+02,  2.72938421e+02,  2.84490189e+02,\n",
       "        2.85638217e+02,  2.90058416e+02,  2.77376655e+02,  2.82847011e+02,\n",
       "        2.78018541e+02,  2.01355629e+02,  2.03543488e+02,  2.05464279e+02,\n",
       "        2.10121228e+02,  2.23684509e+02,  2.29910567e+02,  2.27084993e+02,\n",
       "        2.32926957e+02,  2.20118414e+02,  2.12679477e+02,  2.18431254e+02,\n",
       "        2.17550778e+02,  2.06803930e+02,  2.00981169e+02,  1.96748786e+02,\n",
       "        1.94483171e+02,  1.90681282e+02,  1.93277770e+02,  1.88229210e+02,\n",
       "        1.87672171e+02,  1.86760827e+02,  1.82842560e+02,  1.38123557e+02,\n",
       "        1.77775000e+02,  1.78961791e+02,  1.72731523e+02,  1.70586608e+02,\n",
       "        1.66970900e+02,  1.68227655e+02,  1.61853540e+02,  1.56345178e+02,\n",
       "        1.80872706e+02,  1.41895557e+02,  1.59976309e+02,  1.53972080e+02,\n",
       "        1.64369852e+02,  1.49871771e+02,  1.47173736e+02,  1.59228623e+02,\n",
       "        1.80159885e+02,  1.43259070e+02,  1.45319185e+02,  1.46085078e+02,\n",
       "        1.44594483e+02,  1.74904672e+02,  1.40041239e+02,  1.32301604e+02,\n",
       "        1.30769582e+02,  1.29884835e+02,  1.31147071e+02,  1.27964804e+02,\n",
       "        1.25449497e+02,  1.27109145e+02,  1.22619989e+02,  1.14520762e+02,\n",
       "        1.19551877e+02,  1.21224833e+02,  1.20865356e+02,  1.17884161e+02,\n",
       "        1.18456692e+02,  1.13137773e+02,  1.10392566e+02,  1.09504153e+02,\n",
       "        1.08480598e+02,  1.06328351e+02,  1.02533559e+02,  1.03390007e+02,\n",
       "        1.04258127e+02,  1.00156329e+02,  9.89687567e+01,  9.77755829e+01,\n",
       "        9.62211679e+01,  9.56805948e+01,  5.96900730e+01,  9.43432071e+01,\n",
       "        9.23821252e+01,  6.03019503e+01,  8.83615728e+01,  6.15667564e+01,\n",
       "        6.20644316e+01,  6.23528330e+01,  6.32541003e+01,  8.67139050e+01,\n",
       "        8.62713110e+01,  6.50031231e+01,  6.69061238e+01,  6.72827387e+01,\n",
       "        6.81054657e+01,  8.51237523e+01,  7.15057593e+01,  6.88777187e+01,\n",
       "        7.30115216e+01,  7.34809892e+01,  7.58331572e+01,  6.98629715e+01,\n",
       "        7.66792259e+01,  7.22295381e+01,  7.72044112e+01,  7.95998258e+01,\n",
       "        8.13440191e+01,  8.00601359e+01,  8.31378174e+01,  8.46413749e+01,\n",
       "        8.33610333e+01,  8.35061983e+01,  4.86061463e+01,  4.92150300e+01,\n",
       "        5.32758616e+01,  5.52275878e+01,  5.54494989e+01,  4.99816865e+01,\n",
       "        5.45266966e+01,  5.60846798e+01,  5.13573034e+01,  5.21336145e+01,\n",
       "        5.05994559e+01,  5.20002350e+01,  4.78692472e+01,  4.72780915e+01,\n",
       "        4.68833064e+01,  4.57126864e+01,  4.49269055e+01,  4.30233588e+01,\n",
       "        4.24495052e+01,  4.17772719e+01,  4.11473293e+01,  4.08422327e+01,\n",
       "        4.03761621e+01,  4.02188873e+01,  3.43601687e+01,  3.50805422e+01,\n",
       "        3.61309458e+01,  3.62395225e+01,  3.90122845e+01,  3.85581829e+01,\n",
       "        3.74976277e+01,  3.28274485e+01,  3.77224743e+01,  3.21335817e+01,\n",
       "        2.94586991e+01,  3.87998433e+01,  3.02044189e+01,  3.17491182e+01,\n",
       "        3.16185265e+01,  3.04164886e+01,  2.79772165e+01,  2.73248663e+01,\n",
       "        2.69726858e+01,  2.65158277e+01,  2.62070904e+01,  2.59795933e+01,\n",
       "        2.58232920e+01,  2.49225011e+01,  2.35919284e+01,  2.45092118e+01,\n",
       "        2.52632975e+01,  2.30236395e+01,  2.38679488e+01,  2.21828021e+01,\n",
       "        2.10506745e+01,  2.24155900e+01,  2.03220715e+01,  2.28194822e+01,\n",
       "        1.94644453e+01,  1.96358422e+01,  1.90452662e+01,  1.83403621e+01,\n",
       "        1.80707110e+01,  1.77683953e+01,  1.71272020e+01,  1.69117443e+01,\n",
       "        1.72769913e+01,  1.56154086e+01,  1.58509561e+01,  1.68026672e+01,\n",
       "        1.64933022e+01,  1.61002988e+01,  1.43479344e+01,  1.43938297e+01,\n",
       "        1.30274667e+01,  1.29626705e+01,  1.35258991e+01,  1.37576508e+01,\n",
       "        1.37193436e+01,  6.17257431e+00,  6.32373287e+00,  6.35026699e+00,\n",
       "        6.39437231e+00,  6.44266687e+00,  1.13558103e+01,  1.11010693e+01,\n",
       "        9.01166632e+00,  8.74246187e+00,  7.00021656e+00,  9.61273137e+00,\n",
       "        8.09710751e+00,  7.20684791e+00,  7.93859028e+00,  1.08861568e+01,\n",
       "        1.10143652e+01,  1.05672061e+01,  7.69612312e+00,  7.75857632e+00,\n",
       "        7.56907526e+00,  1.06954861e+01,  1.00269432e+01,  1.01344265e+01,\n",
       "        1.01850641e+01,  7.35975538e+00,  7.37523824e+00,  1.03740255e+01,\n",
       "        1.03271356e+01,  4.51946683e+00,  5.00924036e+00,  5.15465952e+00,\n",
       "        5.50414240e+00,  5.54881470e+00,  6.01472721e+00,  4.75995698e+00,\n",
       "        4.40441247e+00,  4.84551157e+00,  4.46815957e+00,  4.27479032e+00,\n",
       "        3.83719121e+00,  3.69731808e+00,  3.59289707e+00,  3.55106501e+00,\n",
       "        3.57106868e+00,  3.36413007e+00,  3.31332242e+00,  3.20391066e+00,\n",
       "        3.11920103e+00,  2.85644249e+00,  3.00126619e+00,  3.13963600e+00,\n",
       "        3.08242609e+00,  2.66096823e+00,  2.47483032e+00,  2.55411449e+00,\n",
       "        2.28555597e+00,  2.26188554e+00,  1.31616003e+00,  1.39359760e+00,\n",
       "        1.63704601e+00,  1.92327114e+00,  1.48205733e+00,  1.61710653e+00,\n",
       "        2.14473619e+00,  1.79052805e+00,  2.18363713e+00,  2.02599047e+00,\n",
       "        2.14410964e+00,  1.99842647e+00,  1.81098720e+00,  1.94356039e+00,\n",
       "        1.59814952e+00,  1.44146892e+00,  1.24156369e+00,  1.22281631e+00,\n",
       "        1.07077810e+00,  1.01768515e+00,  9.54546809e-01,  9.34886668e-01,\n",
       "        8.82787863e-01,  8.76152245e-01,  8.08117769e-01,  7.88352889e-01,\n",
       "        7.72620684e-01,  7.37112601e-01,  8.27256844e-01,  6.72563438e-01,\n",
       "        5.87058041e-01,  6.05954753e-01,  6.94395874e-01,  6.90637379e-01,\n",
       "        5.17681465e-01,  4.39032914e-01,  5.13309532e-01,  3.67020246e-01,\n",
       "        4.68337678e-01,  4.63892152e-01,  3.23957973e-01,  3.01156872e-01,\n",
       "        2.85474435e-01,  2.80043588e-01,  2.34813872e-01,  2.30521807e-01,\n",
       "        2.20146113e-01,  1.57489583e-01,  2.04300605e-01,  1.89947922e-01,\n",
       "        1.59808684e-01,  1.39376398e-01,  1.34940388e-01,  1.23582306e-01,\n",
       "        1.05858893e-01,  1.11090916e-01,  1.22376342e-01,  9.91082810e-02,\n",
       "        1.03020700e-01,  8.23699643e-02,  3.82282995e-02,  6.46157007e-02,\n",
       "        6.07729267e-02,  5.70156588e-02,  5.55580091e-02,  3.53369194e-02,\n",
       "        3.46224566e-02,  2.96384180e-02,  2.72840350e-02,  1.03552638e-02,\n",
       "        1.26793624e-02,  2.36060583e-02,  6.65156204e-03,  2.37127987e-02,\n",
       "        1.86242100e-02,  1.70254702e-02,  2.97382736e-03,  8.09878756e-04,\n",
       "        8.69147443e-04,  2.42802846e-03,  2.37341950e-03,  5.24765737e-05,\n",
       "        3.77005341e-13, -6.18297243e-13,  5.91200336e-15, -5.33191028e-16,\n",
       "        9.06937661e-16,  0.00000000e+00,  0.00000000e+00,  0.00000000e+00,\n",
       "        0.00000000e+00,  0.00000000e+00,  0.00000000e+00,  0.00000000e+00,\n",
       "        0.00000000e+00,  0.00000000e+00,  0.00000000e+00,  0.00000000e+00,\n",
       "        0.00000000e+00,  0.00000000e+00,  0.00000000e+00,  0.00000000e+00,\n",
       "        0.00000000e+00,  0.00000000e+00,  0.00000000e+00,  0.00000000e+00,\n",
       "        0.00000000e+00,  0.00000000e+00,  0.00000000e+00,  0.00000000e+00,\n",
       "        0.00000000e+00,  0.00000000e+00,  0.00000000e+00,  0.00000000e+00,\n",
       "        0.00000000e+00,  0.00000000e+00,  0.00000000e+00,  0.00000000e+00,\n",
       "        0.00000000e+00,  0.00000000e+00,  0.00000000e+00,  0.00000000e+00,\n",
       "        0.00000000e+00,  0.00000000e+00,  0.00000000e+00,  0.00000000e+00,\n",
       "        0.00000000e+00,  0.00000000e+00,  0.00000000e+00,  0.00000000e+00,\n",
       "        0.00000000e+00,  0.00000000e+00,  0.00000000e+00,  0.00000000e+00,\n",
       "        0.00000000e+00,  0.00000000e+00,  0.00000000e+00,  0.00000000e+00,\n",
       "        0.00000000e+00,  0.00000000e+00,  0.00000000e+00,  0.00000000e+00,\n",
       "        0.00000000e+00,  0.00000000e+00,  0.00000000e+00,  0.00000000e+00,\n",
       "        0.00000000e+00,  0.00000000e+00,  0.00000000e+00,  0.00000000e+00,\n",
       "        0.00000000e+00,  0.00000000e+00,  0.00000000e+00,  0.00000000e+00])"
      ]
     },
     "execution_count": 10,
     "metadata": {},
     "output_type": "execute_result"
    }
   ],
   "source": [
    "eig_vals"
   ]
  },
  {
   "cell_type": "code",
   "execution_count": 11,
   "id": "366c58e0",
   "metadata": {},
   "outputs": [],
   "source": [
    "Top20 = heapq.nlargest(20, range(len(eig_vals)), eig_vals.__getitem__)"
   ]
  },
  {
   "cell_type": "code",
   "execution_count": 12,
   "id": "9c3a72b0",
   "metadata": {},
   "outputs": [
    {
     "data": {
      "text/plain": [
       "(784, 20)"
      ]
     },
     "execution_count": 12,
     "metadata": {},
     "output_type": "execute_result"
    }
   ],
   "source": [
    "e2k = eig_vecs[:,Top20]\n",
    "e2k.shape"
   ]
  },
  {
   "cell_type": "code",
   "execution_count": 13,
   "id": "5fa29664",
   "metadata": {},
   "outputs": [
    {
     "data": {
      "text/plain": [
       "array([[ -123.93258866,  -312.67426202,   -24.51405176, ...,\n",
       "         -309.15388607,  -277.59386988,   166.33237119],\n",
       "       [-1011.71837587,  -294.85703827,   596.33956104, ...,\n",
       "          -39.67733778,   -52.17324342,  -102.03482079],\n",
       "       [   51.84960805,   392.17315286,  -188.50974943, ...,\n",
       "          122.25335194,     9.24766142,  -434.41611557],\n",
       "       ...,\n",
       "       [  178.0534496 ,   160.07821109,  -257.61308227, ...,\n",
       "           37.40074343,  -103.25358874,   238.39087509],\n",
       "       [ -130.60607208,    -5.59193642,   513.85867395, ...,\n",
       "          141.81798303,    77.67469387,   196.83268134],\n",
       "       [  173.43595244,   -24.71880226,   556.01889393, ...,\n",
       "         -270.85120805,   -96.60633712,  -208.26991426]])"
      ]
     },
     "execution_count": 13,
     "metadata": {},
     "output_type": "execute_result"
    }
   ],
   "source": [
    "X_pca = dot(Data_array_new, e2k)\n",
    "X_pca"
   ]
  },
  {
   "cell_type": "code",
   "execution_count": 14,
   "id": "53cc0ecf",
   "metadata": {},
   "outputs": [
    {
     "data": {
      "text/plain": [
       "(60000, 20)"
      ]
     },
     "execution_count": 14,
     "metadata": {},
     "output_type": "execute_result"
    }
   ],
   "source": [
    "X_pca.shape"
   ]
  },
  {
   "cell_type": "code",
   "execution_count": 15,
   "id": "9f000701",
   "metadata": {},
   "outputs": [
    {
     "data": {
      "text/plain": [
       "(10, 784)"
      ]
     },
     "execution_count": 15,
     "metadata": {},
     "output_type": "execute_result"
    }
   ],
   "source": [
    "import matplotlib.pyplot as plt\n",
    "\n",
    "reduce_dim = 20\n",
    "num_viz_pca = 10\n",
    "\n",
    "Top10 = Top20[0:10]\n",
    "Te2k = eig_vecs[:,Top10].T\n",
    "Te2k.shape"
   ]
  },
  {
   "cell_type": "code",
   "execution_count": 16,
   "id": "897f15d8",
   "metadata": {},
   "outputs": [
    {
     "data": {
      "image/png": "[encoded data removed]",
      "text/plain": [
       "<Figure size 432x288 with 10 Axes>"
      ]
     },
     "metadata": {
      "needs_background": "light"
     },
     "output_type": "display_data"
    }
   ],
   "source": [
    "# load principle vectors from your local machine, e.g., here we suppose that the PCA vectors of the training\n",
    "# set is stored in a file named 'pca_components_20' in the ./mnist/ directory\n",
    "# pv_dir = 'mnist/pca_components_' + str(reduce_dim)\n",
    "# pvs = np.empty((reduce_dim, 784))\n",
    "# with open(pv_dir, 'r') as f:\n",
    "#     # Some pre-processing steps, depending on how you store your principle vectors\n",
    "#     # Here, we suppose that each row is corresponding to a principle vectors with string\n",
    "#     # type, e.g, a row can be: '0.5, 0.2, 0.3, ..., 0.21', each element is separated by ','.\n",
    "#     for k, line in enumerate(f.readlines()):\n",
    "#         line = line.strip().split(',')\n",
    "#         # the k-th principle vectors\n",
    "#         pv_k = np.array(list(map(float, line)))\n",
    "#         pvs [k] = pv_k\n",
    "# visualize the principle vectors\n",
    "fig, ax = plt.subplots(num_viz_pca // 5, 5)\n",
    "# YOU NEED TO FILL IN YOUR SID IN THE FOLLOWING LINE\n",
    "fig.suptitle('Visualization of Eigendigits ({})'.format('Fill in Your SID Here'))\n",
    "ax = ax.reshape(-1)\n",
    "for k, pv in enumerate(Te2k [:num_viz_pca]):\n",
    "    pv = pv.reshape(28, 28)\n",
    "    ax[k].imshow(pv, cmap='gray')\n",
    "    ax[k].set_title('pv-{}'.format(k + 1))\n",
    "    ax[k].axis('off')\n",
    "\n",
    "fig.savefig('./viz_pca_vectors_{}.png'.format(num_viz_pca))"
   ]
  },
  {
   "cell_type": "code",
   "execution_count": 17,
   "id": "646679e2",
   "metadata": {},
   "outputs": [],
   "source": [
    "savetxt('pca.txt',X_pca,fmt='%f',delimiter=',')"
   ]
  },
  {
   "cell_type": "code",
   "execution_count": 18,
   "id": "000388ac",
   "metadata": {},
   "outputs": [],
   "source": [
    "savetxt('vector.txt',Te2k,fmt='%f',delimiter=',')"
   ]
  },
  {
   "cell_type": "code",
   "execution_count": null,
   "id": "0ef3294a",
   "metadata": {},
   "outputs": [],
   "source": []
  }
 ],
 "metadata": {
  "kernelspec": {
   "display_name": "Python 3",
   "language": "python",
   "name": "python3"
  },
  "language_info": {
   "codemirror_mode": {
    "name": "ipython",
    "version": 3
   },
   "file_extension": ".py",
   "mimetype": "text/x-python",
   "name": "python",
   "nbconvert_exporter": "python",
   "pygments_lexer": "ipython3",
   "version": "3.8.8"
  }
 },
 "nbformat": 4,
 "nbformat_minor": 5
}
